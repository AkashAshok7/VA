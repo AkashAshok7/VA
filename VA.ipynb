{
 "cells": [
  {
   "cell_type": "code",
   "execution_count": 1,
   "metadata": {},
   "outputs": [
    {
     "name": "stderr",
     "output_type": "stream",
     "text": [
      "Using TensorFlow backend.\n"
     ]
    }
   ],
   "source": [
    "from keras.layers import Input, Conv2D, MaxPooling2D, UpSampling2D, Flatten, Reshape, Dropout, Dense, Conv2DTranspose, Concatenate\n",
    "from keras.models import Model\n",
    "from keras.datasets import mnist\n",
    "from keras.callbacks import TensorBoard\n",
    "from keras import backend as K\n",
    "import numpy as np\n",
    "import matplotlib.pyplot as plt\n",
    "import pickle\n",
    "import keras"
   ]
  },
  {
   "cell_type": "code",
   "execution_count": 2,
   "metadata": {},
   "outputs": [],
   "source": [
    "from keras.models import *\n",
    "from keras.layers import *\n",
    "from keras.optimizers import *\n",
    "from keras.callbacks import ModelCheckpoint, LearningRateScheduler\n",
    "from keras import backend as keras"
   ]
  },
  {
   "cell_type": "code",
   "execution_count": 39,
   "metadata": {},
   "outputs": [],
   "source": [
    "input_img = Input(shape=(32, 32, 3))    # adapt this if using 'channels_first' image data format\n",
    "\n",
    "x = Conv2D(16, (3, 3), activation='relu', padding='same')(input_img)\n",
    "x = MaxPooling2D((2, 2), padding='same')(x)\n",
    "x = Conv2D(8, (3, 3), activation='relu', padding='same')(x)\n",
    "x = MaxPooling2D((2, 2), padding='same')(x)\n",
    "x = Conv2D(8, (3, 3), activation='relu', padding='same')(x)\n",
    "\n",
    "weights = x\n",
    "\n",
    "encoded = MaxPooling2D((2, 2), padding='same')(x)\n",
    "\n"
   ]
  },
  {
   "cell_type": "code",
   "execution_count": 40,
   "metadata": {},
   "outputs": [],
   "source": [
    "from keras.datasets import mnist\n",
    "import numpy as np\n",
    "import matplotlib.pyplot as plt\n",
    "import pickle\n",
    "import keras"
   ]
  },
  {
   "cell_type": "code",
   "execution_count": 79,
   "metadata": {},
   "outputs": [],
   "source": [
    "#UNET Encoder\n",
    "unet_input_img = Input(shape=(32, 32, 3))\n",
    "conv1 = Conv2D(64, 3, activation = 'relu', padding = 'same', kernel_initializer = 'he_normal', name='conv1_a')(unet_input_img)\n",
    "conv1 = Conv2D(64, 3, activation = 'relu', padding = 'same', kernel_initializer = 'he_normal', name='conv1_b')(conv1)\n",
    "pool1 = MaxPooling2D(pool_size=(2, 2), name='pool1')(conv1)#16*16\n",
    "\n",
    "conv2 = Conv2D(64, 3, activation = 'relu', padding = 'same', kernel_initializer = 'he_normal', name='conv2_a')(pool1)\n",
    "conv2 = Conv2D(64, 3, activation = 'relu', padding = 'same', kernel_initializer = 'he_normal', name='conv2_b')(conv2)\n",
    "pool2 = MaxPooling2D(pool_size=(2, 2), name='pool2')(conv2)#8*8\n",
    "\n",
    "conv3 = Conv2D(64, 3, activation = 'relu', padding = 'same', kernel_initializer = 'he_normal', name='conv3_a')(pool2)\n",
    "conv3 = Conv2D(64, 3, activation = 'relu', padding = 'same', kernel_initializer = 'he_normal', name='conv3_b')(conv3)\n",
    "pool3 = MaxPooling2D(pool_size=(2, 2), name='pool3')(conv3)#4*4\n",
    "\n",
    "conv4 = Conv2D(64, 3, activation = 'relu', padding = 'same', kernel_initializer = 'he_normal', name='conv4_a')(pool3)\n",
    "conv4 = Conv2D(64, 3, activation = 'relu', padding = 'same', kernel_initializer = 'he_normal', name='conv4_b')(conv4)\n",
    "drop4 = Dropout(0.5, name='drop4')(conv4)\n",
    "pool4 = MaxPooling2D(pool_size=(2, 2), name='pool4')(conv4)#2*2\n",
    "\n",
    "conv5 = Conv2D(64, 3, activation = 'relu', padding = 'same', kernel_initializer = 'he_normal', name='conv5_a')(pool4)\n",
    "conv5 = Conv2D(64, 3, activation = 'relu', padding = 'same', kernel_initializer = 'he_normal', name='conv5_b')(conv5)\n",
    "drop5 = Dropout(0.5)(conv5)\n",
    "pool5 = MaxPooling2D(pool_size=(2, 2), name='pool5')(conv5)#1*1\n",
    "\n",
    "conv6 = Conv2D(64, 3, activation = 'relu', padding = 'same', kernel_initializer = 'he_normal', name='conv6_a')(pool5)\n",
    "conv6 = Conv2D(64, 3, activation = 'relu', padding = 'same', kernel_initializer = 'he_normal', name='conv6_b')(conv6)\n",
    "drop6 = Dropout(0.5)(conv6)#1*1"
   ]
  },
  {
   "cell_type": "code",
   "execution_count": 80,
   "metadata": {},
   "outputs": [
    {
     "name": "stderr",
     "output_type": "stream",
     "text": [
      "/anaconda3/lib/python3.6/site-packages/ipykernel_launcher.py:49: UserWarning: Update your `Model` call to the Keras 2 API: `Model(inputs=Tensor(\"in..., outputs=Tensor(\"co...)`\n"
     ]
    }
   ],
   "source": [
    "#UNET Decoder\n",
    "up7 = Conv2D(64, 2, activation = 'relu', padding = 'same', kernel_initializer = 'he_normal')(UpSampling2D(size = (1,1))(drop6))\n",
    "#2*2\n",
    "#merge6 = Concatenate([drop4,up6], mode = 'concat', concat_axis = 3)\n",
    "merge7 = Concatenate(axis = 3)([drop6,up7])\n",
    "conv7 = Conv2D(64, 3, activation = 'relu', padding = 'same', kernel_initializer = 'he_normal', name='conv6_up')(merge7)\n",
    "conv7 = Conv2D(64, 3, activation = 'relu', padding = 'same', kernel_initializer = 'he_normal', name='conv6_up_b')(conv7)\n",
    "\n",
    "up8 = Conv2D(164, 2, activation = 'relu', padding = 'same', kernel_initializer = 'he_normal', name='7_up')(UpSampling2D(size = (2,2))(conv7))\n",
    "#4*4\n",
    "#merge7 = Concatenate([conv3,up7], mode = 'concat', concat_axis = 3)\n",
    "merge8 = Concatenate(axis = 3)([conv5,up8])\n",
    "conv8 = Conv2D(64, 3, activation = 'relu', padding = 'same', kernel_initializer = 'he_normal', name='conv7_up')(merge8)\n",
    "conv8 = Conv2D(64, 3, activation = 'relu', padding = 'same', kernel_initializer = 'he_normal', name='conv7_up_b')(conv8)\n",
    "\n",
    "up9 = Conv2D(64, 2, activation = 'relu', padding = 'same', kernel_initializer = 'he_normal', name='up_8')(UpSampling2D(size = (2,2))(conv8))\n",
    "#8*8\n",
    "#merge8 = Concatenate([conv2,up8], mode = 'concat', concat_axis = 3)\n",
    "merge9 = Concatenate(axis = 3)([conv4,up9])\n",
    "conv9 = Conv2D(64, 3, activation = 'relu', padding = 'same', kernel_initializer = 'he_normal', name='conv8_up')(merge9)\n",
    "conv9 = Conv2D(64, 3, activation = 'relu', padding = 'same', kernel_initializer = 'he_normal', name='conv_8_b_up')(conv9)\n",
    "\n",
    "up10 = Conv2D(64, 2, activation = 'relu', padding = 'same', kernel_initializer = 'he_normal')(UpSampling2D(size = (2,2))(conv9))\n",
    "#16*16\n",
    "#merge9 = Concatenate([conv1,up9], mode = 'concat', concat_axis = 3)\n",
    "merge10 = Concatenate(axis = 3)([conv3,up10])\n",
    "conv10 = Conv2D(64, 3, activation = 'relu', padding = 'same', kernel_initializer = 'he_normal')(merge10)\n",
    "conv10 = Conv2D(64, 3, activation = 'relu', padding = 'same', kernel_initializer = 'he_normal')(conv10)\n",
    "\n",
    "\n",
    "\n",
    "up11 = Conv2D(64, 2, activation = 'relu', padding = 'same', kernel_initializer = 'he_normal')(UpSampling2D(size = (2,2))(conv10))\n",
    "\n",
    "#merge9 = Concatenate([conv1,up9], mode = 'concat', concat_axis = 3)\n",
    "merge11 = Concatenate(axis = 3)([conv2,up11])\n",
    "conv11 = Conv2D(64, 3, activation = 'relu', padding = 'same', kernel_initializer = 'he_normal')(merge11)\n",
    "conv11 = Conv2D(64, 3, activation = 'relu', padding = 'same', kernel_initializer = 'he_normal')(conv11)\n",
    "\n",
    "up12 = Conv2D(64, 2, activation = 'relu', padding = 'same', kernel_initializer = 'he_normal')(UpSampling2D(size = (2,2))(conv11))\n",
    "#merge9 = Concatenate([conv1,up9], mode = 'concat', concat_axis = 3)\n",
    "merge12 = Concatenate(axis = 3)([conv1,up12])\n",
    "conv12 = Conv2D(64, 3, activation = 'relu', padding = 'same', kernel_initializer = 'he_normal')(merge12)\n",
    "conv12 = Conv2D(64, 3, activation = 'relu', padding = 'same', kernel_initializer = 'he_normal')(conv12)\n",
    "\n",
    "\n",
    "conv12 = Conv2D(3, 3, activation = 'relu', padding = 'same', kernel_initializer = 'he_normal')(conv12)\n",
    "#conv13 = Conv2D(1, 1, activation = 'sigmoid')(conv12)\n",
    "\n",
    "model = Model(input = unet_input_img, output = conv12)\n",
    "\n",
    "model.compile(optimizer = Adam(lr = 1e-4), loss = 'binary_crossentropy', metrics = ['accuracy'])"
   ]
  },
  {
   "cell_type": "code",
   "execution_count": 81,
   "metadata": {},
   "outputs": [
    {
     "name": "stdout",
     "output_type": "stream",
     "text": [
      "__________________________________________________________________________________________________\n",
      "Layer (type)                    Output Shape         Param #     Connected to                     \n",
      "==================================================================================================\n",
      "input_12 (InputLayer)           (None, 32, 32, 3)    0                                            \n",
      "__________________________________________________________________________________________________\n",
      "conv1_a (Conv2D)                (None, 32, 32, 64)   1792        input_12[0][0]                   \n",
      "__________________________________________________________________________________________________\n",
      "conv1_b (Conv2D)                (None, 32, 32, 64)   36928       conv1_a[0][0]                    \n",
      "__________________________________________________________________________________________________\n",
      "pool1 (MaxPooling2D)            (None, 16, 16, 64)   0           conv1_b[0][0]                    \n",
      "__________________________________________________________________________________________________\n",
      "conv2_a (Conv2D)                (None, 16, 16, 64)   36928       pool1[0][0]                      \n",
      "__________________________________________________________________________________________________\n",
      "conv2_b (Conv2D)                (None, 16, 16, 64)   36928       conv2_a[0][0]                    \n",
      "__________________________________________________________________________________________________\n",
      "pool2 (MaxPooling2D)            (None, 8, 8, 64)     0           conv2_b[0][0]                    \n",
      "__________________________________________________________________________________________________\n",
      "conv3_a (Conv2D)                (None, 8, 8, 64)     36928       pool2[0][0]                      \n",
      "__________________________________________________________________________________________________\n",
      "conv3_b (Conv2D)                (None, 8, 8, 64)     36928       conv3_a[0][0]                    \n",
      "__________________________________________________________________________________________________\n",
      "pool3 (MaxPooling2D)            (None, 4, 4, 64)     0           conv3_b[0][0]                    \n",
      "__________________________________________________________________________________________________\n",
      "conv4_a (Conv2D)                (None, 4, 4, 64)     36928       pool3[0][0]                      \n",
      "__________________________________________________________________________________________________\n",
      "conv4_b (Conv2D)                (None, 4, 4, 64)     36928       conv4_a[0][0]                    \n",
      "__________________________________________________________________________________________________\n",
      "pool4 (MaxPooling2D)            (None, 2, 2, 64)     0           conv4_b[0][0]                    \n",
      "__________________________________________________________________________________________________\n",
      "conv5_a (Conv2D)                (None, 2, 2, 64)     36928       pool4[0][0]                      \n",
      "__________________________________________________________________________________________________\n",
      "conv5_b (Conv2D)                (None, 2, 2, 64)     36928       conv5_a[0][0]                    \n",
      "__________________________________________________________________________________________________\n",
      "pool5 (MaxPooling2D)            (None, 1, 1, 64)     0           conv5_b[0][0]                    \n",
      "__________________________________________________________________________________________________\n",
      "conv6_a (Conv2D)                (None, 1, 1, 64)     36928       pool5[0][0]                      \n",
      "__________________________________________________________________________________________________\n",
      "conv6_b (Conv2D)                (None, 1, 1, 64)     36928       conv6_a[0][0]                    \n",
      "__________________________________________________________________________________________________\n",
      "dropout_20 (Dropout)            (None, 1, 1, 64)     0           conv6_b[0][0]                    \n",
      "__________________________________________________________________________________________________\n",
      "up_sampling2d_124 (UpSampling2D (None, 1, 1, 64)     0           dropout_20[0][0]                 \n",
      "__________________________________________________________________________________________________\n",
      "conv2d_238 (Conv2D)             (None, 1, 1, 64)     16448       up_sampling2d_124[0][0]          \n",
      "__________________________________________________________________________________________________\n",
      "concatenate_123 (Concatenate)   (None, 1, 1, 128)    0           dropout_20[0][0]                 \n",
      "                                                                 conv2d_238[0][0]                 \n",
      "__________________________________________________________________________________________________\n",
      "conv6_up (Conv2D)               (None, 1, 1, 64)     73792       concatenate_123[0][0]            \n",
      "__________________________________________________________________________________________________\n",
      "conv6_up_b (Conv2D)             (None, 1, 1, 64)     36928       conv6_up[0][0]                   \n",
      "__________________________________________________________________________________________________\n",
      "up_sampling2d_125 (UpSampling2D (None, 2, 2, 64)     0           conv6_up_b[0][0]                 \n",
      "__________________________________________________________________________________________________\n",
      "7_up (Conv2D)                   (None, 2, 2, 164)    42148       up_sampling2d_125[0][0]          \n",
      "__________________________________________________________________________________________________\n",
      "concatenate_124 (Concatenate)   (None, 2, 2, 228)    0           conv5_b[0][0]                    \n",
      "                                                                 7_up[0][0]                       \n",
      "__________________________________________________________________________________________________\n",
      "conv7_up (Conv2D)               (None, 2, 2, 64)     131392      concatenate_124[0][0]            \n",
      "__________________________________________________________________________________________________\n",
      "conv7_up_b (Conv2D)             (None, 2, 2, 64)     36928       conv7_up[0][0]                   \n",
      "__________________________________________________________________________________________________\n",
      "up_sampling2d_126 (UpSampling2D (None, 4, 4, 64)     0           conv7_up_b[0][0]                 \n",
      "__________________________________________________________________________________________________\n",
      "up_8 (Conv2D)                   (None, 4, 4, 64)     16448       up_sampling2d_126[0][0]          \n",
      "__________________________________________________________________________________________________\n",
      "concatenate_125 (Concatenate)   (None, 4, 4, 128)    0           conv4_b[0][0]                    \n",
      "                                                                 up_8[0][0]                       \n",
      "__________________________________________________________________________________________________\n",
      "conv8_up (Conv2D)               (None, 4, 4, 64)     73792       concatenate_125[0][0]            \n",
      "__________________________________________________________________________________________________\n",
      "conv_8_b_up (Conv2D)            (None, 4, 4, 64)     36928       conv8_up[0][0]                   \n",
      "__________________________________________________________________________________________________\n",
      "up_sampling2d_127 (UpSampling2D (None, 8, 8, 64)     0           conv_8_b_up[0][0]                \n",
      "__________________________________________________________________________________________________\n",
      "conv2d_239 (Conv2D)             (None, 8, 8, 64)     16448       up_sampling2d_127[0][0]          \n",
      "__________________________________________________________________________________________________\n",
      "concatenate_126 (Concatenate)   (None, 8, 8, 128)    0           conv3_b[0][0]                    \n",
      "                                                                 conv2d_239[0][0]                 \n",
      "__________________________________________________________________________________________________\n",
      "conv2d_240 (Conv2D)             (None, 8, 8, 64)     73792       concatenate_126[0][0]            \n",
      "__________________________________________________________________________________________________\n",
      "conv2d_241 (Conv2D)             (None, 8, 8, 64)     36928       conv2d_240[0][0]                 \n",
      "__________________________________________________________________________________________________\n",
      "up_sampling2d_128 (UpSampling2D (None, 16, 16, 64)   0           conv2d_241[0][0]                 \n",
      "__________________________________________________________________________________________________\n",
      "conv2d_242 (Conv2D)             (None, 16, 16, 64)   16448       up_sampling2d_128[0][0]          \n",
      "__________________________________________________________________________________________________\n",
      "concatenate_127 (Concatenate)   (None, 16, 16, 128)  0           conv2_b[0][0]                    \n",
      "                                                                 conv2d_242[0][0]                 \n",
      "__________________________________________________________________________________________________\n",
      "conv2d_243 (Conv2D)             (None, 16, 16, 64)   73792       concatenate_127[0][0]            \n",
      "__________________________________________________________________________________________________\n",
      "conv2d_244 (Conv2D)             (None, 16, 16, 64)   36928       conv2d_243[0][0]                 \n",
      "__________________________________________________________________________________________________\n",
      "up_sampling2d_129 (UpSampling2D (None, 32, 32, 64)   0           conv2d_244[0][0]                 \n",
      "__________________________________________________________________________________________________\n",
      "conv2d_245 (Conv2D)             (None, 32, 32, 64)   16448       up_sampling2d_129[0][0]          \n",
      "__________________________________________________________________________________________________\n",
      "concatenate_128 (Concatenate)   (None, 32, 32, 128)  0           conv1_b[0][0]                    \n",
      "                                                                 conv2d_245[0][0]                 \n",
      "__________________________________________________________________________________________________\n",
      "conv2d_246 (Conv2D)             (None, 32, 32, 64)   73792       concatenate_128[0][0]            \n",
      "__________________________________________________________________________________________________\n",
      "conv2d_247 (Conv2D)             (None, 32, 32, 64)   36928       conv2d_246[0][0]                 \n",
      "__________________________________________________________________________________________________\n",
      "conv2d_248 (Conv2D)             (None, 32, 32, 3)    1731        conv2d_247[0][0]                 \n",
      "==================================================================================================\n",
      "Total params: 1,256,039\n",
      "Trainable params: 1,256,039\n",
      "Non-trainable params: 0\n",
      "__________________________________________________________________________________________________\n"
     ]
    }
   ],
   "source": [
    "model.summary()"
   ]
  },
  {
   "cell_type": "code",
   "execution_count": 82,
   "metadata": {},
   "outputs": [],
   "source": [
    "from keras.datasets import cifar10\n",
    "(x_train, y_train), (x_test, y_test) = cifar10.load_data()"
   ]
  },
  {
   "cell_type": "code",
   "execution_count": 83,
   "metadata": {},
   "outputs": [
    {
     "data": {
      "text/plain": [
       "(50000, 32, 32, 3)"
      ]
     },
     "execution_count": 83,
     "metadata": {},
     "output_type": "execute_result"
    }
   ],
   "source": [
    "x_train.shape"
   ]
  },
  {
   "cell_type": "code",
   "execution_count": 84,
   "metadata": {},
   "outputs": [
    {
     "name": "stdout",
     "output_type": "stream",
     "text": [
      "Train on 50000 samples, validate on 10000 samples\n",
      "Epoch 1/1\n",
      " - 1078s - loss: -1.9079e+03 - acc: 0.0012 - val_loss: -1.9215e+03 - val_acc: 9.2910e-04\n"
     ]
    },
    {
     "data": {
      "text/plain": [
       "<keras.callbacks.History at 0x1c55316978>"
      ]
     },
     "execution_count": 84,
     "metadata": {},
     "output_type": "execute_result"
    }
   ],
   "source": [
    "# you need to hav one emore decoder layer to have final outout 32,32,1\n",
    "model.fit(x_train, x_train, epochs=1, batch_size=128, shuffle=True, validation_data=(x_test, x_test),\n",
    "                callbacks=[TensorBoard(log_dir='conv_autoencoder')], verbose=2)\n",
    "\n"
   ]
  },
  {
   "cell_type": "code",
   "execution_count": 77,
   "metadata": {},
   "outputs": [],
   "source": [
    "decoded_imgs = model.predict(x_test)"
   ]
  },
  {
   "cell_type": "code",
   "execution_count": null,
   "metadata": {},
   "outputs": [],
   "source": [
    "model.fit(x_train, y_train)"
   ]
  },
  {
   "cell_type": "code",
   "execution_count": null,
   "metadata": {},
   "outputs": [],
   "source": [
    "output_unet = model.predict(img)"
   ]
  },
  {
   "cell_type": "code",
   "execution_count": 91,
   "metadata": {},
   "outputs": [],
   "source": [
    "flattened_conv6 = Flatten()(conv6) "
   ]
  },
  {
   "cell_type": "code",
   "execution_count": 106,
   "metadata": {},
   "outputs": [
    {
     "data": {
      "text/plain": [
       "<tf.Tensor 'up_sampling2d_124/ResizeNearestNeighbor:0' shape=(?, 1, 1, 64) dtype=float32>"
      ]
     },
     "execution_count": 106,
     "metadata": {},
     "output_type": "execute_result"
    }
   ],
   "source": [
    "model.layers[19].output"
   ]
  },
  {
   "cell_type": "code",
   "execution_count": null,
   "metadata": {},
   "outputs": [],
   "source": [
    "get_encoder_output = K.function([model.layers[0].input], [model.layers[19].output])\n",
    "compressed_train = get_encoder_output([x_train])[0]"
   ]
  },
  {
   "cell_type": "code",
   "execution_count": null,
   "metadata": {},
   "outputs": [],
   "source": [
    "compressed_train.shape"
   ]
  },
  {
   "cell_type": "code",
   "execution_count": null,
   "metadata": {},
   "outputs": [],
   "source": [
    "compressed_train_reshaped = compressed_train.reshape(50000,64)"
   ]
  },
  {
   "cell_type": "code",
   "execution_count": 107,
   "metadata": {},
   "outputs": [],
   "source": [
    "get_encoder_output = K.function([model.layers[0].input], [model.layers[19].output])\n",
    "compressed = get_encoder_output([x_test])[0]"
   ]
  },
  {
   "cell_type": "code",
   "execution_count": 109,
   "metadata": {},
   "outputs": [
    {
     "data": {
      "text/plain": [
       "(10000, 1, 1, 64)"
      ]
     },
     "execution_count": 109,
     "metadata": {},
     "output_type": "execute_result"
    }
   ],
   "source": [
    "compressed.shape"
   ]
  },
  {
   "cell_type": "code",
   "execution_count": 110,
   "metadata": {},
   "outputs": [],
   "source": [
    "#flatten compressed representation to 1 dimensional array\n",
    "compressed_reshaped = compressed.reshape(10000,64)"
   ]
  },
  {
   "cell_type": "code",
   "execution_count": 112,
   "metadata": {},
   "outputs": [
    {
     "data": {
      "text/plain": [
       "(10000, 64)"
      ]
     },
     "execution_count": 112,
     "metadata": {},
     "output_type": "execute_result"
    }
   ],
   "source": [
    "compressed_reshaped.shape"
   ]
  },
  {
   "cell_type": "code",
   "execution_count": 113,
   "metadata": {},
   "outputs": [],
   "source": [
    "import matplotlib.pyplot as plt\n",
    "from sklearn.manifold import TSNE"
   ]
  },
  {
   "cell_type": "code",
   "execution_count": 114,
   "metadata": {},
   "outputs": [],
   "source": [
    "X_embedded = TSNE(n_components=2).fit_transform(compressed_reshaped)"
   ]
  },
  {
   "cell_type": "code",
   "execution_count": 115,
   "metadata": {},
   "outputs": [
    {
     "data": {
      "text/plain": [
       "<matplotlib.collections.PathCollection at 0x1c4fd6d160>"
      ]
     },
     "execution_count": 115,
     "metadata": {},
     "output_type": "execute_result"
    },
    {
     "data": {
      "image/png": "[encoded data removed]",
      "text/plain": [
       "<Figure size 432x288 with 1 Axes>"
      ]
     },
     "metadata": {
      "needs_background": "light"
     },
     "output_type": "display_data"
    }
   ],
   "source": [
    "plt.scatter(X_embedded[:,0], X_embedded[:,1])"
   ]
  },
  {
   "cell_type": "code",
   "execution_count": null,
   "metadata": {},
   "outputs": [],
   "source": []
  },
  {
   "cell_type": "code",
   "execution_count": null,
   "metadata": {},
   "outputs": [],
   "source": []
  },
  {
   "cell_type": "code",
   "execution_count": 92,
   "metadata": {},
   "outputs": [
    {
     "data": {
      "text/plain": [
       "<tf.Tensor 'flatten_3/Reshape:0' shape=(?, ?) dtype=float32>"
      ]
     },
     "execution_count": 92,
     "metadata": {},
     "output_type": "execute_result"
    }
   ],
   "source": [
    "compressed_layer = 5\n",
    "get_3rd_layer_output = K.function([model.layers[0].input], [model.layers[compressed_layer].output])\n",
    "compressed = get_3rd_layer_output([x_test])[0]\n",
    " \n",
    "#flatten compressed representation to 1 dimensional array\n",
    "compressed = compressed.reshape(10000,7*7*2)"
   ]
  },
  {
   "cell_type": "code",
   "execution_count": null,
   "metadata": {},
   "outputs": [],
   "source": []
  }
 ],
 "metadata": {
  "kernelspec": {
   "display_name": "Python 3",
   "language": "python",
   "name": "python3"
  },
  "language_info": {
   "codemirror_mode": {
    "name": "ipython",
    "version": 3
   },
   "file_extension": ".py",
   "mimetype": "text/x-python",
   "name": "python",
   "nbconvert_exporter": "python",
   "pygments_lexer": "ipython3",
   "version": "3.6.6"
  }
 },
 "nbformat": 4,
 "nbformat_minor": 2
}
